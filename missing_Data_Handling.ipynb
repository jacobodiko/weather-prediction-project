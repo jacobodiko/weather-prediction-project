{
 "cells": [
  {
   "cell_type": "code",
   "execution_count": 9,
   "metadata": {},
   "outputs": [
    {
     "name": "stdout",
     "output_type": "stream",
     "text": [
      "Original DataFrame:\n",
      "   day_of_week  temperature  humidity  wind_speed  pressure  rain\n",
      "0      Monday           22        65          10      1012     1\n",
      "1     Tuesday           28        55           5      1018     0\n",
      "2   Wednesday           19        80          12      1009     1\n",
      "3    Thursday           21        70           9      1010     0\n",
      "4      Friday           25        60          15      1013     0\n",
      "5    Saturday           30        50           6      1020     0\n",
      "6      Sunday           27        75           8      1016     1\n"
     ]
    }
   ],
   "source": [
    "import pandas as pd\n",
    "import numpy as np\n",
    "\n",
    "# Sample dataset\n",
    "data = {\n",
    "    'day_of_week': ['Monday', 'Tuesday', 'Wednesday', 'Thursday', 'Friday', 'Saturday', 'Sunday'],\n",
    "    'temperature': [22, 28, 19, 21, 25, 30, 27],\n",
    "    'humidity': [65, 55, 80, 70, 60, 50, 75],\n",
    "    'wind_speed': [10, 5, 12, 9, 15, 6, 8],\n",
    "    'pressure': [1012, 1018, 1009, 1010, 1013, 1020, 1016],\n",
    "    'rain': [1, 0, 1, 0, 0, 0, 1]  # Target variable (1 = Rain, 0 = No rain)\n",
    "}\n",
    "\n",
    "df = pd.DataFrame(data)\n",
    "print(\"Original DataFrame:\\n\", df)\n"
   ]
  },
  {
   "cell_type": "code",
   "execution_count": 10,
   "metadata": {},
   "outputs": [
    {
     "name": "stdout",
     "output_type": "stream",
     "text": [
      "\n",
      "DataFrame with missing values:\n",
      "   day_of_week  temperature  humidity  wind_speed  pressure  rain\n",
      "0      Monday         22.0      65.0        10.0    1012.0     1\n",
      "1     Tuesday          NaN      55.0         5.0    1018.0     0\n",
      "2   Wednesday         19.0      80.0        12.0    1009.0     1\n",
      "3    Thursday         21.0       NaN         9.0    1010.0     0\n",
      "4      Friday         25.0      60.0        15.0    1013.0     0\n",
      "5    Saturday         30.0      50.0         NaN    1020.0     0\n",
      "6      Sunday         27.0      75.0         8.0       NaN     1\n"
     ]
    }
   ],
   "source": [
    "# Introduce missing values\n",
    "df.loc[1, 'temperature'] = np.nan  # Tuesday temperature missing\n",
    "df.loc[3, 'humidity'] = np.nan      # Thursday humidity missing\n",
    "df.loc[5, 'wind_speed'] = np.nan    # Saturday wind_speed missing\n",
    "df.loc[6, 'pressure'] = np.nan      # Sunday pressure missing\n",
    "\n",
    "print(\"\\nDataFrame with missing values:\\n\", df)\n"
   ]
  },
  {
   "cell_type": "code",
   "execution_count": 11,
   "metadata": {},
   "outputs": [
    {
     "name": "stdout",
     "output_type": "stream",
     "text": [
      "\n",
      "Missing values count in each column:\n",
      " day_of_week    0\n",
      "temperature    1\n",
      "humidity       1\n",
      "wind_speed     1\n",
      "pressure       1\n",
      "rain           0\n",
      "dtype: int64\n"
     ]
    }
   ],
   "source": [
    "missing_counts = df.isnull().sum()\n",
    "print(\"\\nMissing values count in each column:\\n\", missing_counts)\n"
   ]
  },
  {
   "cell_type": "code",
   "execution_count": 12,
   "metadata": {},
   "outputs": [
    {
     "name": "stdout",
     "output_type": "stream",
     "text": [
      "\n",
      "DataFrame after dropping rows with missing values:\n",
      "   day_of_week  temperature  humidity  wind_speed  pressure  rain\n",
      "0      Monday         22.0      65.0        10.0    1012.0     1\n",
      "2   Wednesday         19.0      80.0        12.0    1009.0     1\n",
      "4      Friday         25.0      60.0        15.0    1013.0     0\n"
     ]
    }
   ],
   "source": [
    "df_dropped = df.dropna()\n",
    "print(\"\\nDataFrame after dropping rows with missing values:\\n\", df_dropped)\n"
   ]
  },
  {
   "cell_type": "code",
   "execution_count": 13,
   "metadata": {},
   "outputs": [
    {
     "name": "stdout",
     "output_type": "stream",
     "text": [
      "\n",
      "DataFrame after filling missing values with mean:\n",
      "   day_of_week  temperature   humidity  wind_speed     pressure  rain\n",
      "0      Monday         22.0  65.000000   10.000000  1012.000000     1\n",
      "1     Tuesday         24.0  55.000000    5.000000  1018.000000     0\n",
      "2   Wednesday         19.0  80.000000   12.000000  1009.000000     1\n",
      "3    Thursday         21.0  64.166667    9.000000  1010.000000     0\n",
      "4      Friday         25.0  60.000000   15.000000  1013.000000     0\n",
      "5    Saturday         30.0  50.000000    9.833333  1020.000000     0\n",
      "6      Sunday         27.0  75.000000    8.000000  1013.666667     1\n",
      "\n",
      "DataFrame after filling missing values with median:\n",
      "   day_of_week  temperature  humidity  wind_speed  pressure  rain\n",
      "0      Monday         22.0      65.0        10.0    1012.0     1\n",
      "1     Tuesday         23.5      55.0         5.0    1018.0     0\n",
      "2   Wednesday         19.0      80.0        12.0    1009.0     1\n",
      "3    Thursday         21.0      62.5         9.0    1010.0     0\n",
      "4      Friday         25.0      60.0        15.0    1013.0     0\n",
      "5    Saturday         30.0      50.0         9.5    1020.0     0\n",
      "6      Sunday         27.0      75.0         8.0    1012.5     1\n",
      "\n",
      "DataFrame after filling missing values with mode:\n",
      "   day_of_week  temperature  humidity  wind_speed  pressure  rain\n",
      "0      Monday         22.0      65.0        10.0    1012.0     1\n",
      "1     Tuesday         19.0      55.0         5.0    1018.0     0\n",
      "2   Wednesday         19.0      80.0        12.0    1009.0     1\n",
      "3    Thursday         21.0      50.0         9.0    1010.0     0\n",
      "4      Friday         25.0      60.0        15.0    1013.0     0\n",
      "5    Saturday         30.0      50.0         5.0    1020.0     0\n",
      "6      Sunday         27.0      75.0         8.0    1009.0     1\n"
     ]
    }
   ],
   "source": [
    "# Fill with mean for numerical columns\n",
    "df_filled_mean = df.fillna(df.mean(numeric_only=True))\n",
    "print(\"\\nDataFrame after filling missing values with mean:\\n\", df_filled_mean)\n",
    "\n",
    "# Fill with median\n",
    "df_filled_median = df.fillna(df.median(numeric_only=True))\n",
    "print(\"\\nDataFrame after filling missing values with median:\\n\", df_filled_median)\n",
    "\n",
    "# Fill with mode (most frequent value)\n",
    "df_filled_mode = df.fillna(df.mode().iloc[0])\n",
    "print(\"\\nDataFrame after filling missing values with mode:\\n\", df_filled_mode)\n"
   ]
  },
  {
   "cell_type": "code",
   "execution_count": 14,
   "metadata": {},
   "outputs": [
    {
     "name": "stdout",
     "output_type": "stream",
     "text": [
      "\n",
      "DataFrame after forward filling:\n",
      "   day_of_week  temperature  humidity  wind_speed  pressure  rain\n",
      "0      Monday         22.0      65.0        10.0    1012.0     1\n",
      "1     Tuesday         22.0      55.0         5.0    1018.0     0\n",
      "2   Wednesday         19.0      80.0        12.0    1009.0     1\n",
      "3    Thursday         21.0      80.0         9.0    1010.0     0\n",
      "4      Friday         25.0      60.0        15.0    1013.0     0\n",
      "5    Saturday         30.0      50.0        15.0    1020.0     0\n",
      "6      Sunday         27.0      75.0         8.0    1020.0     1\n",
      "\n",
      "DataFrame after backward filling:\n",
      "   day_of_week  temperature  humidity  wind_speed  pressure  rain\n",
      "0      Monday         22.0      65.0        10.0    1012.0     1\n",
      "1     Tuesday         19.0      55.0         5.0    1018.0     0\n",
      "2   Wednesday         19.0      80.0        12.0    1009.0     1\n",
      "3    Thursday         21.0      60.0         9.0    1010.0     0\n",
      "4      Friday         25.0      60.0        15.0    1013.0     0\n",
      "5    Saturday         30.0      50.0         8.0    1020.0     0\n",
      "6      Sunday         27.0      75.0         8.0       NaN     1\n"
     ]
    },
    {
     "name": "stderr",
     "output_type": "stream",
     "text": [
      "C:\\Users\\jacob\\AppData\\Local\\Temp\\ipykernel_17520\\3080000140.py:2: FutureWarning: DataFrame.fillna with 'method' is deprecated and will raise in a future version. Use obj.ffill() or obj.bfill() instead.\n",
      "  df_filled_ffill = df.fillna(method='ffill')\n",
      "C:\\Users\\jacob\\AppData\\Local\\Temp\\ipykernel_17520\\3080000140.py:6: FutureWarning: DataFrame.fillna with 'method' is deprecated and will raise in a future version. Use obj.ffill() or obj.bfill() instead.\n",
      "  df_filled_bfill = df.fillna(method='bfill')\n"
     ]
    }
   ],
   "source": [
    "# Forward fill\n",
    "df_filled_ffill = df.fillna(method='ffill')\n",
    "print(\"\\nDataFrame after forward filling:\\n\", df_filled_ffill)\n",
    "\n",
    "# Backward fill\n",
    "df_filled_bfill = df.fillna(method='bfill')\n",
    "print(\"\\nDataFrame after backward filling:\\n\", df_filled_bfill)\n"
   ]
  }
 ],
 "metadata": {
  "kernelspec": {
   "display_name": "Python 3",
   "language": "python",
   "name": "python3"
  },
  "language_info": {
   "codemirror_mode": {
    "name": "ipython",
    "version": 3
   },
   "file_extension": ".py",
   "mimetype": "text/x-python",
   "name": "python",
   "nbconvert_exporter": "python",
   "pygments_lexer": "ipython3",
   "version": "3.13.0"
  }
 },
 "nbformat": 4,
 "nbformat_minor": 2
}
